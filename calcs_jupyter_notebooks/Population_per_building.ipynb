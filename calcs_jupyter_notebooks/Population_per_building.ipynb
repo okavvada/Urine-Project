{
 "cells": [
  {
   "cell_type": "code",
   "execution_count": 5,
   "metadata": {
    "collapsed": false
   },
   "outputs": [],
   "source": [
    "from __future__ import division\n",
    "import psycopg2\n",
    "import pandas as pd\n",
    "import numpy as np\n",
    "import matplotlib.pyplot as plt\n",
    "import math\n",
    "%matplotlib inline"
   ]
  },
  {
   "cell_type": "code",
   "execution_count": 6,
   "metadata": {
    "collapsed": false
   },
   "outputs": [],
   "source": [
    "building_SF = pd.read_csv('../inputs/building_block.csv')"
   ]
  },
  {
   "cell_type": "code",
   "execution_count": 3,
   "metadata": {
    "collapsed": false
   },
   "outputs": [],
   "source": [
    "building_SF_work=building_SF[['objname','centerlat', 'centerlon','num_floor','fid_landus','blklot', 'block_num', 'lot_num', \n",
    "                              'resunits', 'landuse','area_m2','tractce10', 'blockid10', 'housing10','pop10']]"
   ]
  },
  {
   "cell_type": "code",
   "execution_count": 4,
   "metadata": {
    "collapsed": false
   },
   "outputs": [
    {
     "data": {
      "text/html": [
       "<div>\n",
       "<table border=\"1\" class=\"dataframe\">\n",
       "  <thead>\n",
       "    <tr style=\"text-align: right;\">\n",
       "      <th></th>\n",
       "      <th>objname</th>\n",
       "      <th>centerlat</th>\n",
       "      <th>centerlon</th>\n",
       "      <th>num_floor</th>\n",
       "      <th>fid_landus</th>\n",
       "      <th>blklot</th>\n",
       "      <th>block_num</th>\n",
       "      <th>lot_num</th>\n",
       "      <th>resunits</th>\n",
       "      <th>landuse</th>\n",
       "      <th>area_m2</th>\n",
       "      <th>tractce10</th>\n",
       "      <th>blockid10</th>\n",
       "      <th>housing10</th>\n",
       "      <th>pop10</th>\n",
       "    </tr>\n",
       "  </thead>\n",
       "  <tbody>\n",
       "    <tr>\n",
       "      <th>0</th>\n",
       "      <td>SanfranQ_1047</td>\n",
       "      <td>37.751639</td>\n",
       "      <td>-122.479761</td>\n",
       "      <td>5</td>\n",
       "      <td>49819</td>\n",
       "      <td>2112001</td>\n",
       "      <td>2112</td>\n",
       "      <td>001</td>\n",
       "      <td>1</td>\n",
       "      <td>RESIDENT</td>\n",
       "      <td>130.614398</td>\n",
       "      <td>32802</td>\n",
       "      <td>6.075033e+13</td>\n",
       "      <td>62</td>\n",
       "      <td>146</td>\n",
       "    </tr>\n",
       "    <tr>\n",
       "      <th>1</th>\n",
       "      <td>SanfranQ_1047</td>\n",
       "      <td>37.751639</td>\n",
       "      <td>-122.479761</td>\n",
       "      <td>5</td>\n",
       "      <td>49820</td>\n",
       "      <td>2112001A</td>\n",
       "      <td>2112</td>\n",
       "      <td>001A</td>\n",
       "      <td>1</td>\n",
       "      <td>RESIDENT</td>\n",
       "      <td>116.067280</td>\n",
       "      <td>32802</td>\n",
       "      <td>6.075033e+13</td>\n",
       "      <td>62</td>\n",
       "      <td>146</td>\n",
       "    </tr>\n",
       "    <tr>\n",
       "      <th>2</th>\n",
       "      <td>SanfranQ_1047</td>\n",
       "      <td>37.751639</td>\n",
       "      <td>-122.479761</td>\n",
       "      <td>5</td>\n",
       "      <td>51786</td>\n",
       "      <td>2112001B</td>\n",
       "      <td>2112</td>\n",
       "      <td>001B</td>\n",
       "      <td>1</td>\n",
       "      <td>RESIDENT</td>\n",
       "      <td>117.381949</td>\n",
       "      <td>32802</td>\n",
       "      <td>6.075033e+13</td>\n",
       "      <td>62</td>\n",
       "      <td>146</td>\n",
       "    </tr>\n",
       "    <tr>\n",
       "      <th>3</th>\n",
       "      <td>SanfranQ_1047</td>\n",
       "      <td>37.751639</td>\n",
       "      <td>-122.479761</td>\n",
       "      <td>5</td>\n",
       "      <td>52023</td>\n",
       "      <td>2112009</td>\n",
       "      <td>2112</td>\n",
       "      <td>009</td>\n",
       "      <td>1</td>\n",
       "      <td>RESIDENT</td>\n",
       "      <td>100.114528</td>\n",
       "      <td>32802</td>\n",
       "      <td>6.075033e+13</td>\n",
       "      <td>62</td>\n",
       "      <td>146</td>\n",
       "    </tr>\n",
       "    <tr>\n",
       "      <th>4</th>\n",
       "      <td>SanfranQ_1047</td>\n",
       "      <td>37.751639</td>\n",
       "      <td>-122.479761</td>\n",
       "      <td>5</td>\n",
       "      <td>52353</td>\n",
       "      <td>2112001D</td>\n",
       "      <td>2112</td>\n",
       "      <td>001D</td>\n",
       "      <td>1</td>\n",
       "      <td>MIXRES</td>\n",
       "      <td>156.518242</td>\n",
       "      <td>32802</td>\n",
       "      <td>6.075033e+13</td>\n",
       "      <td>62</td>\n",
       "      <td>146</td>\n",
       "    </tr>\n",
       "  </tbody>\n",
       "</table>\n",
       "</div>"
      ],
      "text/plain": [
       "         objname  centerlat   centerlon  num_floor  fid_landus    blklot  \\\n",
       "0  SanfranQ_1047  37.751639 -122.479761          5       49819   2112001   \n",
       "1  SanfranQ_1047  37.751639 -122.479761          5       49820  2112001A   \n",
       "2  SanfranQ_1047  37.751639 -122.479761          5       51786  2112001B   \n",
       "3  SanfranQ_1047  37.751639 -122.479761          5       52023   2112009   \n",
       "4  SanfranQ_1047  37.751639 -122.479761          5       52353  2112001D   \n",
       "\n",
       "  block_num lot_num  resunits   landuse     area_m2  tractce10     blockid10  \\\n",
       "0      2112     001         1  RESIDENT  130.614398      32802  6.075033e+13   \n",
       "1      2112    001A         1  RESIDENT  116.067280      32802  6.075033e+13   \n",
       "2      2112    001B         1  RESIDENT  117.381949      32802  6.075033e+13   \n",
       "3      2112     009         1  RESIDENT  100.114528      32802  6.075033e+13   \n",
       "4      2112    001D         1    MIXRES  156.518242      32802  6.075033e+13   \n",
       "\n",
       "   housing10  pop10  \n",
       "0         62    146  \n",
       "1         62    146  \n",
       "2         62    146  \n",
       "3         62    146  \n",
       "4         62    146  "
      ]
     },
     "execution_count": 4,
     "metadata": {},
     "output_type": "execute_result"
    }
   ],
   "source": [
    "building_SF_work.head()"
   ]
  },
  {
   "cell_type": "code",
   "execution_count": 5,
   "metadata": {
    "collapsed": false
   },
   "outputs": [],
   "source": [
    "building_SF_grouped = building_SF_work.groupby('blockid10')"
   ]
  },
  {
   "cell_type": "code",
   "execution_count": 6,
   "metadata": {
    "collapsed": true
   },
   "outputs": [],
   "source": [
    "conn = psycopg2.connect(\"dbname='population_SF' user='Olga' host='localhost'\")\n",
    "cur = conn.cursor()\n"
   ]
  },
  {
   "cell_type": "code",
   "execution_count": 7,
   "metadata": {
    "collapsed": true
   },
   "outputs": [],
   "source": [
    "#Edit database for floor 1\n",
    "cur.execute(\"\"\" \n",
    "UPDATE  building_point_block\n",
    "SET num_floor = 1\n",
    "WHERE num_floor = 0;\n",
    "\"\"\")"
   ]
  },
  {
   "cell_type": "code",
   "execution_count": 8,
   "metadata": {
    "collapsed": false
   },
   "outputs": [],
   "source": [
    "#Find all buildings listed as residential and Estimate total area by using num_floors and footprint area\n",
    "cur.execute(\"\"\" DROP TABLE IF EXISTS all_building_blocks;\n",
    "CREATE TABLE all_building_blocks AS\n",
    "SELECT *, (a.area_m2*a.num_floor) as total_area \n",
    "FROM building_point_block a\n",
    "WHERE a.landuse = 'RESIDENT' OR a.landuse = 'MIXRES' OR a.landuse = 'MISSING DATA';\n",
    "\"\"\")"
   ]
  },
  {
   "cell_type": "code",
   "execution_count": 9,
   "metadata": {
    "collapsed": false
   },
   "outputs": [],
   "source": [
    "#Estimate total area of residential building by BLOCK\n",
    "cur.execute(\"\"\" DROP TABLE IF EXISTS sum_area_block;\n",
    "CREATE TABLE sum_area_block AS\n",
    "SELECT a.blockid10, SUM(a.total_area) as total_area_floors \n",
    "FROM all_building_blocks a\n",
    "GROUP BY a.blockid10;\n",
    "\"\"\")\n"
   ]
  },
  {
   "cell_type": "code",
   "execution_count": 10,
   "metadata": {
    "collapsed": false
   },
   "outputs": [],
   "source": [
    "#Estimate percent of building area for every BLOCK\n",
    "cur.execute(\"\"\" DROP TABLE IF EXISTS percent_area_block;\n",
    "CREATE TABLE percent_area_block AS\n",
    "SELECT b.gid, a.blockid10, b.total_area/a.total_area_floors as percent_area\n",
    "FROM all_building_blocks b, sum_area_block a\n",
    "WHERE a.blockid10 = b.blockid10;\n",
    "\"\"\")"
   ]
  },
  {
   "cell_type": "code",
   "execution_count": 15,
   "metadata": {
    "collapsed": false
   },
   "outputs": [],
   "source": [
    "#Estimate number of people by building\n",
    "cur.execute(\"\"\" DROP TABLE IF EXISTS num_people_build;\n",
    "CREATE TABLE num_people_build AS\n",
    "SELECT b.gid, a.blockid10, a.percent_area*b.pop10 as num_people\n",
    "FROM all_building_blocks b, percent_area_block a\n",
    "WHERE a.gid = b.gid;\n",
    "\"\"\")"
   ]
  },
  {
   "cell_type": "code",
   "execution_count": 22,
   "metadata": {
    "collapsed": false
   },
   "outputs": [],
   "source": [
    "cur.execute(\"\"\"\n",
    "SELECT * FROM num_people_build ;\n",
    "\"\"\")\n",
    "colnames = [desc[0] for desc in cur.description]\n",
    "rows = cur.fetchall()\n",
    "\n",
    "df_num_people_build = pd.DataFrame(rows)\n",
    "df_num_people_build.columns=colnames"
   ]
  },
  {
   "cell_type": "code",
   "execution_count": 23,
   "metadata": {
    "collapsed": true
   },
   "outputs": [],
   "source": [
    "cur.execute(\"\"\"\n",
    "SELECT * FROM all_building_blocks ;\n",
    "\"\"\")\n",
    "colnames = [desc[0] for desc in cur.description]\n",
    "rows = cur.fetchall()\n",
    "\n",
    "df_all_building_blocks = pd.DataFrame(rows)\n",
    "df_all_building_blocks.columns=colnames"
   ]
  },
  {
   "cell_type": "code",
   "execution_count": 24,
   "metadata": {
    "collapsed": false
   },
   "outputs": [
    {
     "data": {
      "text/html": [
       "<div>\n",
       "<table border=\"1\" class=\"dataframe\">\n",
       "  <thead>\n",
       "    <tr style=\"text-align: right;\">\n",
       "      <th></th>\n",
       "      <th>gid</th>\n",
       "      <th>join_count</th>\n",
       "      <th>target_fid</th>\n",
       "      <th>fid_buildi</th>\n",
       "      <th>objname</th>\n",
       "      <th>centerlat</th>\n",
       "      <th>centerlon</th>\n",
       "      <th>origin84</th>\n",
       "      <th>originmsl</th>\n",
       "      <th>usngpos</th>\n",
       "      <th>...</th>\n",
       "      <th>fid_tabblo</th>\n",
       "      <th>statefp10</th>\n",
       "      <th>countyfp10</th>\n",
       "      <th>tractce10</th>\n",
       "      <th>blockce</th>\n",
       "      <th>blockid10</th>\n",
       "      <th>partflg</th>\n",
       "      <th>housing10</th>\n",
       "      <th>pop10</th>\n",
       "      <th>total_area</th>\n",
       "    </tr>\n",
       "  </thead>\n",
       "  <tbody>\n",
       "    <tr>\n",
       "      <th>0</th>\n",
       "      <td>1</td>\n",
       "      <td>1</td>\n",
       "      <td>1</td>\n",
       "      <td>0</td>\n",
       "      <td>SanfranQ_1047</td>\n",
       "      <td>37.7516388900</td>\n",
       "      <td>-122.479760690</td>\n",
       "      <td>123.249094030</td>\n",
       "      <td>151.358031620</td>\n",
       "      <td>10SEG4582978387</td>\n",
       "      <td>...</td>\n",
       "      <td>528925</td>\n",
       "      <td>06</td>\n",
       "      <td>075</td>\n",
       "      <td>032802</td>\n",
       "      <td>1006</td>\n",
       "      <td>060750328021006</td>\n",
       "      <td>N</td>\n",
       "      <td>62</td>\n",
       "      <td>146</td>\n",
       "      <td>653.071988575</td>\n",
       "    </tr>\n",
       "    <tr>\n",
       "      <th>1</th>\n",
       "      <td>2</td>\n",
       "      <td>1</td>\n",
       "      <td>2</td>\n",
       "      <td>0</td>\n",
       "      <td>SanfranQ_1047</td>\n",
       "      <td>37.7516388900</td>\n",
       "      <td>-122.479760690</td>\n",
       "      <td>123.249094030</td>\n",
       "      <td>151.358031620</td>\n",
       "      <td>10SEG4582978387</td>\n",
       "      <td>...</td>\n",
       "      <td>528925</td>\n",
       "      <td>06</td>\n",
       "      <td>075</td>\n",
       "      <td>032802</td>\n",
       "      <td>1006</td>\n",
       "      <td>060750328021006</td>\n",
       "      <td>N</td>\n",
       "      <td>62</td>\n",
       "      <td>146</td>\n",
       "      <td>580.336401645</td>\n",
       "    </tr>\n",
       "    <tr>\n",
       "      <th>2</th>\n",
       "      <td>3</td>\n",
       "      <td>1</td>\n",
       "      <td>3</td>\n",
       "      <td>0</td>\n",
       "      <td>SanfranQ_1047</td>\n",
       "      <td>37.7516388900</td>\n",
       "      <td>-122.479760690</td>\n",
       "      <td>123.249094030</td>\n",
       "      <td>151.358031620</td>\n",
       "      <td>10SEG4582978387</td>\n",
       "      <td>...</td>\n",
       "      <td>528925</td>\n",
       "      <td>06</td>\n",
       "      <td>075</td>\n",
       "      <td>032802</td>\n",
       "      <td>1006</td>\n",
       "      <td>060750328021006</td>\n",
       "      <td>N</td>\n",
       "      <td>62</td>\n",
       "      <td>146</td>\n",
       "      <td>586.909745395</td>\n",
       "    </tr>\n",
       "    <tr>\n",
       "      <th>3</th>\n",
       "      <td>4</td>\n",
       "      <td>1</td>\n",
       "      <td>4</td>\n",
       "      <td>0</td>\n",
       "      <td>SanfranQ_1047</td>\n",
       "      <td>37.7516388900</td>\n",
       "      <td>-122.479760690</td>\n",
       "      <td>123.249094030</td>\n",
       "      <td>151.358031620</td>\n",
       "      <td>10SEG4582978387</td>\n",
       "      <td>...</td>\n",
       "      <td>528925</td>\n",
       "      <td>06</td>\n",
       "      <td>075</td>\n",
       "      <td>032802</td>\n",
       "      <td>1006</td>\n",
       "      <td>060750328021006</td>\n",
       "      <td>N</td>\n",
       "      <td>62</td>\n",
       "      <td>146</td>\n",
       "      <td>500.572640550</td>\n",
       "    </tr>\n",
       "    <tr>\n",
       "      <th>4</th>\n",
       "      <td>5</td>\n",
       "      <td>1</td>\n",
       "      <td>5</td>\n",
       "      <td>0</td>\n",
       "      <td>SanfranQ_1047</td>\n",
       "      <td>37.7516388900</td>\n",
       "      <td>-122.479760690</td>\n",
       "      <td>123.249094030</td>\n",
       "      <td>151.358031620</td>\n",
       "      <td>10SEG4582978387</td>\n",
       "      <td>...</td>\n",
       "      <td>528925</td>\n",
       "      <td>06</td>\n",
       "      <td>075</td>\n",
       "      <td>032802</td>\n",
       "      <td>1006</td>\n",
       "      <td>060750328021006</td>\n",
       "      <td>N</td>\n",
       "      <td>62</td>\n",
       "      <td>146</td>\n",
       "      <td>782.591209070</td>\n",
       "    </tr>\n",
       "  </tbody>\n",
       "</table>\n",
       "<p>5 rows × 91 columns</p>\n",
       "</div>"
      ],
      "text/plain": [
       "   gid  join_count  target_fid  fid_buildi        objname      centerlat  \\\n",
       "0    1           1           1           0  SanfranQ_1047  37.7516388900   \n",
       "1    2           1           2           0  SanfranQ_1047  37.7516388900   \n",
       "2    3           1           3           0  SanfranQ_1047  37.7516388900   \n",
       "3    4           1           4           0  SanfranQ_1047  37.7516388900   \n",
       "4    5           1           5           0  SanfranQ_1047  37.7516388900   \n",
       "\n",
       "        centerlon       origin84      originmsl          usngpos  \\\n",
       "0  -122.479760690  123.249094030  151.358031620  10SEG4582978387   \n",
       "1  -122.479760690  123.249094030  151.358031620  10SEG4582978387   \n",
       "2  -122.479760690  123.249094030  151.358031620  10SEG4582978387   \n",
       "3  -122.479760690  123.249094030  151.358031620  10SEG4582978387   \n",
       "4  -122.479760690  123.249094030  151.358031620  10SEG4582978387   \n",
       "\n",
       "       ...       fid_tabblo statefp10 countyfp10 tractce10 blockce  \\\n",
       "0      ...           528925        06        075    032802    1006   \n",
       "1      ...           528925        06        075    032802    1006   \n",
       "2      ...           528925        06        075    032802    1006   \n",
       "3      ...           528925        06        075    032802    1006   \n",
       "4      ...           528925        06        075    032802    1006   \n",
       "\n",
       "         blockid10 partflg housing10 pop10     total_area  \n",
       "0  060750328021006       N        62   146  653.071988575  \n",
       "1  060750328021006       N        62   146  580.336401645  \n",
       "2  060750328021006       N        62   146  586.909745395  \n",
       "3  060750328021006       N        62   146  500.572640550  \n",
       "4  060750328021006       N        62   146  782.591209070  \n",
       "\n",
       "[5 rows x 91 columns]"
      ]
     },
     "execution_count": 24,
     "metadata": {},
     "output_type": "execute_result"
    }
   ],
   "source": [
    "df_all_building_blocks.head()"
   ]
  },
  {
   "cell_type": "code",
   "execution_count": 25,
   "metadata": {
    "collapsed": true
   },
   "outputs": [],
   "source": [
    "df_all_building_blocks.to_csv(\"C:\\Users\\Olga\\Documents\\RENUWIT\\Urine_separation\\python_model\\\\building_block.csv\")"
   ]
  },
  {
   "cell_type": "code",
   "execution_count": 26,
   "metadata": {
    "collapsed": true
   },
   "outputs": [],
   "source": [
    "building_population=pd.merge(df_all_building_blocks, df_num_people_build, how='left', on=['gid', 'gid'])"
   ]
  },
  {
   "cell_type": "code",
   "execution_count": 28,
   "metadata": {
    "collapsed": false
   },
   "outputs": [],
   "source": [
    "building_population.to_csv(\"C:\\Users\\Olga\\Documents\\RENUWIT\\Urine_separation\\python_model\\\\building_population.csv\")"
   ]
  },
  {
   "cell_type": "code",
   "execution_count": 34,
   "metadata": {
    "collapsed": false
   },
   "outputs": [],
   "source": [
    "a = np.zeros(4)[None].T"
   ]
  },
  {
   "cell_type": "code",
   "execution_count": 52,
   "metadata": {
    "collapsed": false
   },
   "outputs": [],
   "source": [
    "a=np.array([1,2])\n",
    "b=np.array([[5,6],[7,8]])"
   ]
  },
  {
   "cell_type": "code",
   "execution_count": null,
   "metadata": {
    "collapsed": true
   },
   "outputs": [],
   "source": []
  },
  {
   "cell_type": "code",
   "execution_count": null,
   "metadata": {
    "collapsed": true
   },
   "outputs": [],
   "source": []
  },
  {
   "cell_type": "code",
   "execution_count": null,
   "metadata": {
    "collapsed": true
   },
   "outputs": [],
   "source": []
  }
 ],
 "metadata": {
  "anaconda-cloud": {},
  "kernelspec": {
   "display_name": "Python [conda root]",
   "language": "python",
   "name": "conda-root-py"
  },
  "language_info": {
   "codemirror_mode": {
    "name": "ipython",
    "version": 3
   },
   "file_extension": ".py",
   "mimetype": "text/x-python",
   "name": "python",
   "nbconvert_exporter": "python",
   "pygments_lexer": "ipython3",
   "version": "3.5.2"
  }
 },
 "nbformat": 4,
 "nbformat_minor": 0
}
