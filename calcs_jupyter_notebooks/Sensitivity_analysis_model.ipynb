{
 "cells": [
  {
   "cell_type": "code",
   "execution_count": 1,
   "metadata": {
    "collapsed": false
   },
   "outputs": [],
   "source": [
    "from __future__ import division\n",
    "import pandas as pd\n",
    "import numpy as np\n",
    "import matplotlib.pyplot as plt\n",
    "import math\n",
    "import statsmodels.formula.api as sm\n",
    "import statsmodels.api as smf\n",
    "from scipy.stats import gamma,norm,rayleigh,describe,scoreatpercentile\n",
    "\n",
    "%matplotlib inline"
   ]
  },
  {
   "cell_type": "code",
   "execution_count": null,
   "metadata": {
    "collapsed": true
   },
   "outputs": [],
   "source": [
    "import sys\n",
    "module_path = os.path.abspath(os.path.join('..'))\n",
    "if module_path not in sys.path:\n",
    "    sys.path.append(module_path)"
   ]
  },
  {
   "cell_type": "code",
   "execution_count": 2,
   "metadata": {
    "collapsed": false
   },
   "outputs": [],
   "source": [
    "from utils.Run_LCA_model import Run_LCA_model\n",
    "from utils.Parameter_values_dict import Parameter_names"
   ]
  },
  {
   "cell_type": "code",
   "execution_count": 3,
   "metadata": {
    "collapsed": false
   },
   "outputs": [],
   "source": [
    "buildings_path = '..\\inputs\\\\combined_buildings_2.csv'\n",
    "logistics = 'optimal'\n",
    "analysis = 'Sensitivity'\n",
    "acid_type = 'Sulfuric'\n",
    "scenario = 'Resin'\n",
    "n_collection = 1\n",
    "n_regen = 20\n",
    "for direction in ['plus', 'minus']:\n",
    "    Result_Energy_m3 = pd.DataFrame()\n",
    "    Result_GHG_m3 = pd.DataFrame()\n",
    "    Result_COST_m3 = pd.DataFrame()\n",
    "    for param in Parameter_names:\n",
    "        Total_Energy_m3, Total_GHG_m3, Total_COST_m3, Parameters = Run_LCA_model(buildings_path, n_regen, n_collection, logistics, analysis,acid_type, scenario=scenario, parameter = param, direction = direction)\n",
    "        Total_Energy_m3['param'], Total_GHG_m3['param'], Total_COST_m3['param'] = param, param, param\n",
    "        Result_Energy_m3 = Result_Energy_m3.append(Total_Energy_m3)\n",
    "        Result_GHG_m3 = Result_GHG_m3.append(Total_GHG_m3)\n",
    "        Result_COST_m3 = Result_COST_m3.append(Total_COST_m3)\n",
    "\n",
    "    Result_Energy_m3[\"sum\"] = (Result_Energy_m3.sum(axis=1)) - Result_Energy_m3[\"n_facilities\"]-Result_Energy_m3['Fertilizer offset']\n",
    "    Result_GHG_m3[\"sum\"] = (Result_GHG_m3.sum(axis=1)) - Result_GHG_m3[\"n_facilities\"]-Result_GHG_m3['Fertilizer offset']\n",
    "    Result_COST_m3[\"sum\"] = (Result_COST_m3.sum(axis=1)) - Result_COST_m3[\"n_facilities\"]-Result_COST_m3['Fertilizer offset']-Result_COST_m3['Labor']-Result_COST_m3['Labor_trucks']-Result_COST_m3['Labor_facility']\n",
    "\n",
    "    if direction == 'plus':\n",
    "        Result_Energy_param_plus = Result_Energy_m3[['sum', 'param']]\n",
    "        Result_GHG_param_plus = Result_GHG_m3[['sum', 'param']]\n",
    "        Result_COST_param_plus = Result_COST_m3[['sum', 'param']]\n",
    "    if direction == 'minus':\n",
    "        Result_Energy_param_minus = Result_Energy_m3[['sum', 'param']]\n",
    "        Result_GHG_param_minus = Result_GHG_m3[['sum', 'param']]\n",
    "        Result_COST_param_minus = Result_COST_m3[['sum', 'param']]"
   ]
  },
  {
   "cell_type": "code",
   "execution_count": 4,
   "metadata": {
    "collapsed": false
   },
   "outputs": [],
   "source": [
    "Sensitivity_Energy = pd.merge(Result_Energy_param_plus, Result_Energy_param_minus, on = 'param')\n",
    "Sensitivity_GHG = pd.merge(Result_GHG_param_plus, Result_GHG_param_minus, on = 'param')\n",
    "Sensitivity_COST = pd.merge(Result_COST_param_plus, Result_COST_param_minus, on = 'param')"
   ]
  },
  {
   "cell_type": "code",
   "execution_count": 5,
   "metadata": {
    "collapsed": false
   },
   "outputs": [],
   "source": [
    "Sensitivity_Energy['Sensitivity'] = abs(Sensitivity_Energy['sum_y'] - Sensitivity_Energy['sum_x'])\n",
    "Sensitivity_GHG['Sensitivity'] = abs(Sensitivity_GHG['sum_y'] - Sensitivity_GHG['sum_x'])\n",
    "Sensitivity_COST['Sensitivity'] = abs(Sensitivity_COST['sum_y'] - Sensitivity_COST['sum_x'])"
   ]
  },
  {
   "cell_type": "code",
   "execution_count": 6,
   "metadata": {
    "collapsed": false
   },
   "outputs": [
    {
     "name": "stderr",
     "output_type": "stream",
     "text": [
      "C:\\Users\\Olga\\Anaconda3\\lib\\site-packages\\ipykernel\\__main__.py:1: FutureWarning: sort(columns=....) is deprecated, use sort_values(by=.....)\n",
      "  if __name__ == '__main__':\n"
     ]
    },
    {
     "data": {
      "text/html": [
       "<div>\n",
       "<table border=\"1\" class=\"dataframe\">\n",
       "  <thead>\n",
       "    <tr style=\"text-align: right;\">\n",
       "      <th></th>\n",
       "      <th>sum_x</th>\n",
       "      <th>param</th>\n",
       "      <th>sum_y</th>\n",
       "      <th>Sensitivity</th>\n",
       "    </tr>\n",
       "  </thead>\n",
       "  <tbody>\n",
       "    <tr>\n",
       "      <th>0</th>\n",
       "      <td>28.592126</td>\n",
       "      <td>percent_served</td>\n",
       "      <td>26.030785</td>\n",
       "      <td>2.561341</td>\n",
       "    </tr>\n",
       "    <tr>\n",
       "      <th>56</th>\n",
       "      <td>35.877138</td>\n",
       "      <td>sulphuric_acid_energy</td>\n",
       "      <td>34.105488</td>\n",
       "      <td>1.771650</td>\n",
       "    </tr>\n",
       "    <tr>\n",
       "      <th>13</th>\n",
       "      <td>34.215719</td>\n",
       "      <td>urine_production</td>\n",
       "      <td>35.963884</td>\n",
       "      <td>1.748165</td>\n",
       "    </tr>\n",
       "    <tr>\n",
       "      <th>10</th>\n",
       "      <td>34.337971</td>\n",
       "      <td>adsorption_density</td>\n",
       "      <td>35.677459</td>\n",
       "      <td>1.339488</td>\n",
       "    </tr>\n",
       "    <tr>\n",
       "      <th>23</th>\n",
       "      <td>35.274604</td>\n",
       "      <td>transport_energy_MJ_km</td>\n",
       "      <td>34.708022</td>\n",
       "      <td>0.566582</td>\n",
       "    </tr>\n",
       "    <tr>\n",
       "      <th>9</th>\n",
       "      <td>34.856569</td>\n",
       "      <td>resin_lifetime</td>\n",
       "      <td>35.137286</td>\n",
       "      <td>0.280718</td>\n",
       "    </tr>\n",
       "    <tr>\n",
       "      <th>5</th>\n",
       "      <td>35.131028</td>\n",
       "      <td>resin_energy_MJ_kg</td>\n",
       "      <td>34.851598</td>\n",
       "      <td>0.279430</td>\n",
       "    </tr>\n",
       "    <tr>\n",
       "      <th>11</th>\n",
       "      <td>35.111352</td>\n",
       "      <td>time_between_catridge_regeneration</td>\n",
       "      <td>34.871275</td>\n",
       "      <td>0.240077</td>\n",
       "    </tr>\n",
       "  </tbody>\n",
       "</table>\n",
       "</div>"
      ],
      "text/plain": [
       "        sum_x                               param      sum_y  Sensitivity\n",
       "0   28.592126                      percent_served  26.030785     2.561341\n",
       "56  35.877138               sulphuric_acid_energy  34.105488     1.771650\n",
       "13  34.215719                    urine_production  35.963884     1.748165\n",
       "10  34.337971                  adsorption_density  35.677459     1.339488\n",
       "23  35.274604              transport_energy_MJ_km  34.708022     0.566582\n",
       "9   34.856569                      resin_lifetime  35.137286     0.280718\n",
       "5   35.131028                  resin_energy_MJ_kg  34.851598     0.279430\n",
       "11  35.111352  time_between_catridge_regeneration  34.871275     0.240077"
      ]
     },
     "execution_count": 6,
     "metadata": {},
     "output_type": "execute_result"
    }
   ],
   "source": [
    "Sensitivity_Energy.sort(columns='Sensitivity', ascending=False)[:8]"
   ]
  },
  {
   "cell_type": "code",
   "execution_count": 7,
   "metadata": {
    "collapsed": false,
    "scrolled": true
   },
   "outputs": [
    {
     "name": "stderr",
     "output_type": "stream",
     "text": [
      "C:\\Users\\Olga\\Anaconda3\\lib\\site-packages\\ipykernel\\__main__.py:1: FutureWarning: sort(columns=....) is deprecated, use sort_values(by=.....)\n",
      "  if __name__ == '__main__':\n"
     ]
    },
    {
     "data": {
      "text/html": [
       "<div>\n",
       "<table border=\"1\" class=\"dataframe\">\n",
       "  <thead>\n",
       "    <tr style=\"text-align: right;\">\n",
       "      <th></th>\n",
       "      <th>sum_x</th>\n",
       "      <th>param</th>\n",
       "      <th>sum_y</th>\n",
       "      <th>Sensitivity</th>\n",
       "    </tr>\n",
       "  </thead>\n",
       "  <tbody>\n",
       "    <tr>\n",
       "      <th>0</th>\n",
       "      <td>16.459498</td>\n",
       "      <td>percent_served</td>\n",
       "      <td>14.009965</td>\n",
       "      <td>2.449533</td>\n",
       "    </tr>\n",
       "    <tr>\n",
       "      <th>13</th>\n",
       "      <td>21.798771</td>\n",
       "      <td>urine_production</td>\n",
       "      <td>23.564857</td>\n",
       "      <td>1.766086</td>\n",
       "    </tr>\n",
       "    <tr>\n",
       "      <th>75</th>\n",
       "      <td>23.189926</td>\n",
       "      <td>facility_cost_regression</td>\n",
       "      <td>21.974707</td>\n",
       "      <td>1.215219</td>\n",
       "    </tr>\n",
       "    <tr>\n",
       "      <th>10</th>\n",
       "      <td>22.227465</td>\n",
       "      <td>adsorption_density</td>\n",
       "      <td>22.954984</td>\n",
       "      <td>0.727519</td>\n",
       "    </tr>\n",
       "    <tr>\n",
       "      <th>11</th>\n",
       "      <td>22.877508</td>\n",
       "      <td>time_between_catridge_regeneration</td>\n",
       "      <td>22.287124</td>\n",
       "      <td>0.590383</td>\n",
       "    </tr>\n",
       "    <tr>\n",
       "      <th>61</th>\n",
       "      <td>22.754520</td>\n",
       "      <td>sulphuric_acid_cost</td>\n",
       "      <td>22.410112</td>\n",
       "      <td>0.344409</td>\n",
       "    </tr>\n",
       "    <tr>\n",
       "      <th>9</th>\n",
       "      <td>22.550026</td>\n",
       "      <td>resin_lifetime</td>\n",
       "      <td>22.617297</td>\n",
       "      <td>0.067271</td>\n",
       "    </tr>\n",
       "    <tr>\n",
       "      <th>4</th>\n",
       "      <td>22.615848</td>\n",
       "      <td>resin_cost_kg</td>\n",
       "      <td>22.548784</td>\n",
       "      <td>0.067063</td>\n",
       "    </tr>\n",
       "  </tbody>\n",
       "</table>\n",
       "</div>"
      ],
      "text/plain": [
       "        sum_x                               param      sum_y  Sensitivity\n",
       "0   16.459498                      percent_served  14.009965     2.449533\n",
       "13  21.798771                    urine_production  23.564857     1.766086\n",
       "75  23.189926            facility_cost_regression  21.974707     1.215219\n",
       "10  22.227465                  adsorption_density  22.954984     0.727519\n",
       "11  22.877508  time_between_catridge_regeneration  22.287124     0.590383\n",
       "61  22.754520                 sulphuric_acid_cost  22.410112     0.344409\n",
       "9   22.550026                      resin_lifetime  22.617297     0.067271\n",
       "4   22.615848                       resin_cost_kg  22.548784     0.067063"
      ]
     },
     "execution_count": 7,
     "metadata": {},
     "output_type": "execute_result"
    }
   ],
   "source": [
    "Sensitivity_COST.sort(columns='Sensitivity', ascending=False)[:8]"
   ]
  },
  {
   "cell_type": "code",
   "execution_count": 8,
   "metadata": {
    "collapsed": false
   },
   "outputs": [
    {
     "name": "stderr",
     "output_type": "stream",
     "text": [
      "C:\\Users\\Olga\\Anaconda3\\lib\\site-packages\\ipykernel\\__main__.py:1: FutureWarning: sort(columns=....) is deprecated, use sort_values(by=.....)\n",
      "  if __name__ == '__main__':\n"
     ]
    },
    {
     "data": {
      "text/html": [
       "<div>\n",
       "<table border=\"1\" class=\"dataframe\">\n",
       "  <thead>\n",
       "    <tr style=\"text-align: right;\">\n",
       "      <th></th>\n",
       "      <th>sum_x</th>\n",
       "      <th>param</th>\n",
       "      <th>sum_y</th>\n",
       "      <th>Sensitivity</th>\n",
       "    </tr>\n",
       "  </thead>\n",
       "  <tbody>\n",
       "    <tr>\n",
       "      <th>0</th>\n",
       "      <td>5.319362</td>\n",
       "      <td>percent_served</td>\n",
       "      <td>4.705342</td>\n",
       "      <td>0.614020</td>\n",
       "    </tr>\n",
       "    <tr>\n",
       "      <th>13</th>\n",
       "      <td>6.666572</td>\n",
       "      <td>urine_production</td>\n",
       "      <td>7.087893</td>\n",
       "      <td>0.421321</td>\n",
       "    </tr>\n",
       "    <tr>\n",
       "      <th>57</th>\n",
       "      <td>7.019323</td>\n",
       "      <td>sulphuric_acid_GHG</td>\n",
       "      <td>6.687670</td>\n",
       "      <td>0.331653</td>\n",
       "    </tr>\n",
       "    <tr>\n",
       "      <th>10</th>\n",
       "      <td>6.733797</td>\n",
       "      <td>adsorption_density</td>\n",
       "      <td>6.979206</td>\n",
       "      <td>0.245409</td>\n",
       "    </tr>\n",
       "    <tr>\n",
       "      <th>24</th>\n",
       "      <td>6.921371</td>\n",
       "      <td>transport_GHG_kg_km</td>\n",
       "      <td>6.785622</td>\n",
       "      <td>0.135750</td>\n",
       "    </tr>\n",
       "    <tr>\n",
       "      <th>11</th>\n",
       "      <td>6.871349</td>\n",
       "      <td>time_between_catridge_regeneration</td>\n",
       "      <td>6.835644</td>\n",
       "      <td>0.035704</td>\n",
       "    </tr>\n",
       "    <tr>\n",
       "      <th>9</th>\n",
       "      <td>6.837255</td>\n",
       "      <td>resin_lifetime</td>\n",
       "      <td>6.871092</td>\n",
       "      <td>0.033837</td>\n",
       "    </tr>\n",
       "    <tr>\n",
       "      <th>6</th>\n",
       "      <td>6.870262</td>\n",
       "      <td>resin_GHG_kg_kg</td>\n",
       "      <td>6.836731</td>\n",
       "      <td>0.033532</td>\n",
       "    </tr>\n",
       "  </tbody>\n",
       "</table>\n",
       "</div>"
      ],
      "text/plain": [
       "       sum_x                               param     sum_y  Sensitivity\n",
       "0   5.319362                      percent_served  4.705342     0.614020\n",
       "13  6.666572                    urine_production  7.087893     0.421321\n",
       "57  7.019323                  sulphuric_acid_GHG  6.687670     0.331653\n",
       "10  6.733797                  adsorption_density  6.979206     0.245409\n",
       "24  6.921371                 transport_GHG_kg_km  6.785622     0.135750\n",
       "11  6.871349  time_between_catridge_regeneration  6.835644     0.035704\n",
       "9   6.837255                      resin_lifetime  6.871092     0.033837\n",
       "6   6.870262                     resin_GHG_kg_kg  6.836731     0.033532"
      ]
     },
     "execution_count": 8,
     "metadata": {},
     "output_type": "execute_result"
    }
   ],
   "source": [
    "Sensitivity_GHG.sort(columns='Sensitivity', ascending=False)[:8]"
   ]
  },
  {
   "cell_type": "code",
   "execution_count": null,
   "metadata": {
    "collapsed": true
   },
   "outputs": [],
   "source": []
  },
  {
   "cell_type": "code",
   "execution_count": null,
   "metadata": {
    "collapsed": true
   },
   "outputs": [],
   "source": []
  }
 ],
 "metadata": {
  "anaconda-cloud": {},
  "kernelspec": {
   "display_name": "Python [conda root]",
   "language": "python",
   "name": "conda-root-py"
  },
  "language_info": {
   "codemirror_mode": {
    "name": "ipython",
    "version": 3
   },
   "file_extension": ".py",
   "mimetype": "text/x-python",
   "name": "python",
   "nbconvert_exporter": "python",
   "pygments_lexer": "ipython3",
   "version": "3.5.2"
  }
 },
 "nbformat": 4,
 "nbformat_minor": 0
}
