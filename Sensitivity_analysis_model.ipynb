{
 "cells": [
  {
   "cell_type": "code",
   "execution_count": 2,
   "metadata": {
    "collapsed": false
   },
   "outputs": [],
   "source": [
    "from __future__ import division\n",
    "import pandas as pd\n",
    "import numpy as np\n",
    "import matplotlib.pyplot as plt\n",
    "import math\n",
    "import statsmodels.formula.api as sm\n",
    "import statsmodels.api as smf\n",
    "from scipy.stats import gamma,norm,rayleigh,describe,scoreatpercentile\n",
    "\n",
    "%matplotlib inline"
   ]
  },
  {
   "cell_type": "code",
   "execution_count": 3,
   "metadata": {
    "collapsed": false
   },
   "outputs": [],
   "source": [
    "from utils.Run_LCA_model import Run_LCA_model\n",
    "from utils.Parameter_values_dict import Parameter_names"
   ]
  },
  {
   "cell_type": "code",
   "execution_count": 4,
   "metadata": {
    "collapsed": false
   },
   "outputs": [],
   "source": [
    "buildings_path = '..\\shapefiles\\\\building_block_people_WGS_3_int.csv'\n",
    "logistics = 'optimal'\n",
    "analysis = 'Sensitivity'\n",
    "acid_type = 'Sulfuric'\n",
    "n_collection = 1\n",
    "n_regen = 20\n",
    "for direction in ['plus', 'minus']:\n",
    "    Result_Energy_m3 = pd.DataFrame()\n",
    "    Result_GHG_m3 = pd.DataFrame()\n",
    "    Result_COST_m3 = pd.DataFrame()\n",
    "    for param in Parameter_names:\n",
    "        Total_Energy_m3, Total_GHG_m3, Total_COST_m3 = Run_LCA_model(buildings_path, n_regen, n_collection, logistics, analysis,acid_type, parameter = param, direction = direction)\n",
    "        Total_Energy_m3['param'], Total_GHG_m3['param'], Total_COST_m3['param'] = param, param, param\n",
    "        Result_Energy_m3 = Result_Energy_m3.append(Total_Energy_m3)\n",
    "        Result_GHG_m3 = Result_GHG_m3.append(Total_GHG_m3)\n",
    "        Result_COST_m3 = Result_COST_m3.append(Total_COST_m3)\n",
    "\n",
    "    Result_Energy_m3[\"sum\"] = (Result_Energy_m3.sum(axis=1)) - Result_Energy_m3[\"n_facilities\"]\n",
    "    Result_GHG_m3[\"sum\"] = (Result_GHG_m3.sum(axis=1)) - Result_GHG_m3[\"n_facilities\"]\n",
    "    Result_COST_m3[\"sum\"] = (Result_COST_m3.sum(axis=1)) - Result_COST_m3[\"n_facilities\"]\n",
    "\n",
    "    if direction == 'plus':\n",
    "        Result_Energy_param_plus = Result_Energy_m3[['sum', 'param']]\n",
    "        Result_GHG_param_plus = Result_GHG_m3[['sum', 'param']]\n",
    "        Result_COST_param_plus = Result_COST_m3[['sum', 'param']]\n",
    "    if direction == 'minus':\n",
    "        Result_Energy_param_minus = Result_Energy_m3[['sum', 'param']]\n",
    "        Result_GHG_param_minus = Result_GHG_m3[['sum', 'param']]\n",
    "        Result_COST_param_minus = Result_COST_m3[['sum', 'param']]"
   ]
  },
  {
   "cell_type": "code",
   "execution_count": 5,
   "metadata": {
    "collapsed": false
   },
   "outputs": [],
   "source": [
    "Sensitivity_Energy = pd.merge(Result_Energy_param_plus, Result_Energy_param_minus, on = 'param')\n",
    "Sensitivity_GHG = pd.merge(Result_GHG_param_plus, Result_GHG_param_minus, on = 'param')\n",
    "Sensitivity_COST = pd.merge(Result_COST_param_plus, Result_COST_param_minus, on = 'param')"
   ]
  },
  {
   "cell_type": "code",
   "execution_count": 6,
   "metadata": {
    "collapsed": false
   },
   "outputs": [],
   "source": [
    "Sensitivity_Energy['Sensitivity'] = abs(Sensitivity_Energy['sum_y'] - Sensitivity_Energy['sum_x'])*5\n",
    "Sensitivity_GHG['Sensitivity'] = abs(Sensitivity_GHG['sum_y'] - Sensitivity_GHG['sum_x'])*5\n",
    "Sensitivity_COST['Sensitivity'] = abs(Sensitivity_COST['sum_y'] - Sensitivity_COST['sum_x'])*5"
   ]
  },
  {
   "cell_type": "code",
   "execution_count": 7,
   "metadata": {
    "collapsed": false
   },
   "outputs": [
    {
     "name": "stderr",
     "output_type": "stream",
     "text": [
      "C:\\Users\\Olga\\Anaconda3\\lib\\site-packages\\ipykernel\\__main__.py:1: FutureWarning: sort(columns=....) is deprecated, use sort_values(by=.....)\n",
      "  if __name__ == '__main__':\n"
     ]
    },
    {
     "data": {
      "text/html": [
       "<div>\n",
       "<table border=\"1\" class=\"dataframe\">\n",
       "  <thead>\n",
       "    <tr style=\"text-align: right;\">\n",
       "      <th></th>\n",
       "      <th>sum_x</th>\n",
       "      <th>param</th>\n",
       "      <th>sum_y</th>\n",
       "      <th>Sensitivity</th>\n",
       "    </tr>\n",
       "  </thead>\n",
       "  <tbody>\n",
       "    <tr>\n",
       "      <th>0</th>\n",
       "      <td>11.071583</td>\n",
       "      <td>percent_served</td>\n",
       "      <td>9.987011</td>\n",
       "      <td>5.422860</td>\n",
       "    </tr>\n",
       "    <tr>\n",
       "      <th>13</th>\n",
       "      <td>15.542857</td>\n",
       "      <td>urine_production</td>\n",
       "      <td>16.454131</td>\n",
       "      <td>4.556366</td>\n",
       "    </tr>\n",
       "    <tr>\n",
       "      <th>56</th>\n",
       "      <td>16.259919</td>\n",
       "      <td>sulphuric_acid_energy</td>\n",
       "      <td>15.634390</td>\n",
       "      <td>3.127643</td>\n",
       "    </tr>\n",
       "    <tr>\n",
       "      <th>10</th>\n",
       "      <td>15.661398</td>\n",
       "      <td>adsorption_density</td>\n",
       "      <td>16.247259</td>\n",
       "      <td>2.929303</td>\n",
       "    </tr>\n",
       "    <tr>\n",
       "      <th>23</th>\n",
       "      <td>16.146343</td>\n",
       "      <td>transport_energy_MJ_km</td>\n",
       "      <td>15.747967</td>\n",
       "      <td>1.991877</td>\n",
       "    </tr>\n",
       "    <tr>\n",
       "      <th>9</th>\n",
       "      <td>15.812410</td>\n",
       "      <td>resin_lifetime</td>\n",
       "      <td>16.093128</td>\n",
       "      <td>1.403588</td>\n",
       "    </tr>\n",
       "    <tr>\n",
       "      <th>5</th>\n",
       "      <td>16.086870</td>\n",
       "      <td>resin_energy_MJ_kg</td>\n",
       "      <td>15.807440</td>\n",
       "      <td>1.397151</td>\n",
       "    </tr>\n",
       "    <tr>\n",
       "      <th>11</th>\n",
       "      <td>16.056664</td>\n",
       "      <td>time_between_catridge_regeneration</td>\n",
       "      <td>15.837646</td>\n",
       "      <td>1.095090</td>\n",
       "    </tr>\n",
       "  </tbody>\n",
       "</table>\n",
       "</div>"
      ],
      "text/plain": [
       "        sum_x                               param      sum_y  Sensitivity\n",
       "0   11.071583                      percent_served   9.987011     5.422860\n",
       "13  15.542857                    urine_production  16.454131     4.556366\n",
       "56  16.259919               sulphuric_acid_energy  15.634390     3.127643\n",
       "10  15.661398                  adsorption_density  16.247259     2.929303\n",
       "23  16.146343              transport_energy_MJ_km  15.747967     1.991877\n",
       "9   15.812410                      resin_lifetime  16.093128     1.403588\n",
       "5   16.086870                  resin_energy_MJ_kg  15.807440     1.397151\n",
       "11  16.056664  time_between_catridge_regeneration  15.837646     1.095090"
      ]
     },
     "execution_count": 7,
     "metadata": {},
     "output_type": "execute_result"
    }
   ],
   "source": [
    "Sensitivity_Energy.sort(columns='Sensitivity', ascending=False)[:8]"
   ]
  },
  {
   "cell_type": "code",
   "execution_count": 8,
   "metadata": {
    "collapsed": false
   },
   "outputs": [
    {
     "name": "stderr",
     "output_type": "stream",
     "text": [
      "C:\\Users\\Olga\\Anaconda3\\lib\\site-packages\\ipykernel\\__main__.py:1: FutureWarning: sort(columns=....) is deprecated, use sort_values(by=.....)\n",
      "  if __name__ == '__main__':\n"
     ]
    },
    {
     "data": {
      "text/html": [
       "<div>\n",
       "<table border=\"1\" class=\"dataframe\">\n",
       "  <thead>\n",
       "    <tr style=\"text-align: right;\">\n",
       "      <th></th>\n",
       "      <th>sum_x</th>\n",
       "      <th>param</th>\n",
       "      <th>sum_y</th>\n",
       "      <th>Sensitivity</th>\n",
       "    </tr>\n",
       "  </thead>\n",
       "  <tbody>\n",
       "    <tr>\n",
       "      <th>0</th>\n",
       "      <td>1.726679</td>\n",
       "      <td>percent_served</td>\n",
       "      <td>1.449295</td>\n",
       "      <td>1.386922</td>\n",
       "    </tr>\n",
       "    <tr>\n",
       "      <th>57</th>\n",
       "      <td>3.053288</td>\n",
       "      <td>sulphuric_acid_GHG</td>\n",
       "      <td>2.894330</td>\n",
       "      <td>0.794789</td>\n",
       "    </tr>\n",
       "    <tr>\n",
       "      <th>10</th>\n",
       "      <td>2.911775</td>\n",
       "      <td>adsorption_density</td>\n",
       "      <td>3.038958</td>\n",
       "      <td>0.635919</td>\n",
       "    </tr>\n",
       "    <tr>\n",
       "      <th>24</th>\n",
       "      <td>3.024965</td>\n",
       "      <td>transport_GHG_kg_km</td>\n",
       "      <td>2.922654</td>\n",
       "      <td>0.511556</td>\n",
       "    </tr>\n",
       "    <tr>\n",
       "      <th>13</th>\n",
       "      <td>2.935473</td>\n",
       "      <td>urine_production</td>\n",
       "      <td>3.021882</td>\n",
       "      <td>0.432043</td>\n",
       "    </tr>\n",
       "    <tr>\n",
       "      <th>14</th>\n",
       "      <td>3.012012</td>\n",
       "      <td>household_size</td>\n",
       "      <td>2.932423</td>\n",
       "      <td>0.397944</td>\n",
       "    </tr>\n",
       "    <tr>\n",
       "      <th>9</th>\n",
       "      <td>2.957567</td>\n",
       "      <td>resin_lifetime</td>\n",
       "      <td>2.991405</td>\n",
       "      <td>0.169186</td>\n",
       "    </tr>\n",
       "    <tr>\n",
       "      <th>6</th>\n",
       "      <td>2.990575</td>\n",
       "      <td>resin_GHG_kg_kg</td>\n",
       "      <td>2.957043</td>\n",
       "      <td>0.167658</td>\n",
       "    </tr>\n",
       "  </tbody>\n",
       "</table>\n",
       "</div>"
      ],
      "text/plain": [
       "       sum_x                param     sum_y  Sensitivity\n",
       "0   1.726679       percent_served  1.449295     1.386922\n",
       "57  3.053288   sulphuric_acid_GHG  2.894330     0.794789\n",
       "10  2.911775   adsorption_density  3.038958     0.635919\n",
       "24  3.024965  transport_GHG_kg_km  2.922654     0.511556\n",
       "13  2.935473     urine_production  3.021882     0.432043\n",
       "14  3.012012       household_size  2.932423     0.397944\n",
       "9   2.957567       resin_lifetime  2.991405     0.169186\n",
       "6   2.990575      resin_GHG_kg_kg  2.957043     0.167658"
      ]
     },
     "execution_count": 8,
     "metadata": {},
     "output_type": "execute_result"
    }
   ],
   "source": [
    "Sensitivity_GHG.sort(columns='Sensitivity', ascending=False)[:8]"
   ]
  },
  {
   "cell_type": "code",
   "execution_count": 9,
   "metadata": {
    "collapsed": false
   },
   "outputs": [
    {
     "name": "stderr",
     "output_type": "stream",
     "text": [
      "C:\\Users\\Olga\\Anaconda3\\lib\\site-packages\\ipykernel\\__main__.py:1: FutureWarning: sort(columns=....) is deprecated, use sort_values(by=.....)\n",
      "  if __name__ == '__main__':\n"
     ]
    },
    {
     "data": {
      "text/html": [
       "<div>\n",
       "<table border=\"1\" class=\"dataframe\">\n",
       "  <thead>\n",
       "    <tr style=\"text-align: right;\">\n",
       "      <th></th>\n",
       "      <th>sum_x</th>\n",
       "      <th>param</th>\n",
       "      <th>sum_y</th>\n",
       "      <th>Sensitivity</th>\n",
       "    </tr>\n",
       "  </thead>\n",
       "  <tbody>\n",
       "    <tr>\n",
       "      <th>13</th>\n",
       "      <td>39.990861</td>\n",
       "      <td>urine_production</td>\n",
       "      <td>46.390793</td>\n",
       "      <td>31.999664</td>\n",
       "    </tr>\n",
       "    <tr>\n",
       "      <th>0</th>\n",
       "      <td>17.733789</td>\n",
       "      <td>percent_served</td>\n",
       "      <td>12.156523</td>\n",
       "      <td>27.886328</td>\n",
       "    </tr>\n",
       "    <tr>\n",
       "      <th>75</th>\n",
       "      <td>43.437877</td>\n",
       "      <td>facility_cost_regression</td>\n",
       "      <td>42.222658</td>\n",
       "      <td>6.076095</td>\n",
       "    </tr>\n",
       "    <tr>\n",
       "      <th>10</th>\n",
       "      <td>42.476698</td>\n",
       "      <td>adsorption_density</td>\n",
       "      <td>43.201589</td>\n",
       "      <td>3.624456</td>\n",
       "    </tr>\n",
       "    <tr>\n",
       "      <th>11</th>\n",
       "      <td>43.124087</td>\n",
       "      <td>time_between_catridge_regeneration</td>\n",
       "      <td>42.536448</td>\n",
       "      <td>2.938193</td>\n",
       "    </tr>\n",
       "    <tr>\n",
       "      <th>61</th>\n",
       "      <td>43.009095</td>\n",
       "      <td>sulphuric_acid_cost</td>\n",
       "      <td>42.651440</td>\n",
       "      <td>1.788276</td>\n",
       "    </tr>\n",
       "    <tr>\n",
       "      <th>9</th>\n",
       "      <td>42.797977</td>\n",
       "      <td>resin_lifetime</td>\n",
       "      <td>42.865249</td>\n",
       "      <td>0.336357</td>\n",
       "    </tr>\n",
       "    <tr>\n",
       "      <th>4</th>\n",
       "      <td>42.863799</td>\n",
       "      <td>resin_cost_kg</td>\n",
       "      <td>42.796736</td>\n",
       "      <td>0.335316</td>\n",
       "    </tr>\n",
       "  </tbody>\n",
       "</table>\n",
       "</div>"
      ],
      "text/plain": [
       "        sum_x                               param      sum_y  Sensitivity\n",
       "13  39.990861                    urine_production  46.390793    31.999664\n",
       "0   17.733789                      percent_served  12.156523    27.886328\n",
       "75  43.437877            facility_cost_regression  42.222658     6.076095\n",
       "10  42.476698                  adsorption_density  43.201589     3.624456\n",
       "11  43.124087  time_between_catridge_regeneration  42.536448     2.938193\n",
       "61  43.009095                 sulphuric_acid_cost  42.651440     1.788276\n",
       "9   42.797977                      resin_lifetime  42.865249     0.336357\n",
       "4   42.863799                       resin_cost_kg  42.796736     0.335316"
      ]
     },
     "execution_count": 9,
     "metadata": {},
     "output_type": "execute_result"
    }
   ],
   "source": [
    "Sensitivity_COST.sort(columns='Sensitivity', ascending=False)[:8]"
   ]
  },
  {
   "cell_type": "code",
   "execution_count": null,
   "metadata": {
    "collapsed": true
   },
   "outputs": [],
   "source": []
  },
  {
   "cell_type": "code",
   "execution_count": null,
   "metadata": {
    "collapsed": true
   },
   "outputs": [],
   "source": []
  }
 ],
 "metadata": {
  "anaconda-cloud": {},
  "kernelspec": {
   "display_name": "Python [conda root]",
   "language": "python",
   "name": "conda-root-py"
  },
  "language_info": {
   "codemirror_mode": {
    "name": "ipython",
    "version": 3
   },
   "file_extension": ".py",
   "mimetype": "text/x-python",
   "name": "python",
   "nbconvert_exporter": "python",
   "pygments_lexer": "ipython3",
   "version": "3.5.2"
  }
 },
 "nbformat": 4,
 "nbformat_minor": 0
}
