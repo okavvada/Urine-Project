{
 "cells": [
  {
   "cell_type": "code",
   "execution_count": 1,
   "metadata": {
    "collapsed": true
   },
   "outputs": [],
   "source": [
    "import pandas as pd"
   ]
  },
  {
   "cell_type": "code",
   "execution_count": 5,
   "metadata": {
    "collapsed": false
   },
   "outputs": [],
   "source": [
    "buildings = pd.read_csv('../shapefiles/building_res_emp_elev_2.csv')\n",
    "old = pd.read_csv('..\\shapefiles\\\\building_block_people_WGS_3_empl.csv')"
   ]
  },
  {
   "cell_type": "code",
   "execution_count": 11,
   "metadata": {
    "collapsed": false
   },
   "outputs": [
    {
     "data": {
      "text/plain": [
       "Index(['FID_', 'gid', 'fid_buildi', 'objname', 'numfaces', 'num_floor',\n",
       "       'fid_landus', 'blklot', 'block_num', 'lot_num', 'resunits', 'landuse',\n",
       "       'bldgsqft', 'yrbuilt', 'area_m2', 'county', 'fid_tabblo', 'tractce10',\n",
       "       'housing10', 'lat', 'lon', 'num_people', 'pop10', 'lat_lat', 'lon_lon',\n",
       "       'EMPL_NUM', 'nu_peo_emp'],\n",
       "      dtype='object')"
      ]
     },
     "execution_count": 11,
     "metadata": {},
     "output_type": "execute_result"
    }
   ],
   "source": [
    "old.columns"
   ]
  },
  {
   "cell_type": "code",
   "execution_count": 12,
   "metadata": {
    "collapsed": true
   },
   "outputs": [],
   "source": [
    "buildings['area_m2'] = buildings['Area_m2']\n",
    "buildings['lat_lat'] = buildings['y_lat']\n",
    "buildings['lon_lon'] = buildings['x_lon']\n",
    "buildings['nu_peo_emp'] = buildings['SUM_pop']"
   ]
  },
  {
   "cell_type": "code",
   "execution_count": 21,
   "metadata": {
    "collapsed": true
   },
   "outputs": [],
   "source": [
    "buildings.to_csv('../shapefiles/building_res_emp_elev_2.csv')"
   ]
  },
  {
   "cell_type": "code",
   "execution_count": 19,
   "metadata": {
    "collapsed": false
   },
   "outputs": [],
   "source": [
    "buildings['gid'] = buildings.index+1"
   ]
  },
  {
   "cell_type": "code",
   "execution_count": 20,
   "metadata": {
    "collapsed": false
   },
   "outputs": [
    {
     "data": {
      "text/html": [
       "<div>\n",
       "<table border=\"1\" class=\"dataframe\">\n",
       "  <thead>\n",
       "    <tr style=\"text-align: right;\">\n",
       "      <th></th>\n",
       "      <th>Unnamed: 0</th>\n",
       "      <th>num_floor</th>\n",
       "      <th>Area_m2</th>\n",
       "      <th>x_lon</th>\n",
       "      <th>y_lat</th>\n",
       "      <th>ELEV_treat</th>\n",
       "      <th>SUM_pop</th>\n",
       "      <th>pop</th>\n",
       "      <th>employees</th>\n",
       "      <th>lat_lon</th>\n",
       "      <th>area_m2</th>\n",
       "      <th>lat_lat</th>\n",
       "      <th>lon_lon</th>\n",
       "      <th>nu_peo_emp</th>\n",
       "      <th>gid</th>\n",
       "    </tr>\n",
       "  </thead>\n",
       "  <tbody>\n",
       "    <tr>\n",
       "      <th>0</th>\n",
       "      <td>0</td>\n",
       "      <td>4.0</td>\n",
       "      <td>133.080891</td>\n",
       "      <td>-122.450799</td>\n",
       "      <td>37.768826</td>\n",
       "      <td>81.596710</td>\n",
       "      <td>4.906568</td>\n",
       "      <td>4.906568</td>\n",
       "      <td>0.0</td>\n",
       "      <td>(37.768826000000004, -122.450799)</td>\n",
       "      <td>133.080891</td>\n",
       "      <td>37.768826</td>\n",
       "      <td>-122.450799</td>\n",
       "      <td>4.906568</td>\n",
       "      <td>1</td>\n",
       "    </tr>\n",
       "    <tr>\n",
       "      <th>1</th>\n",
       "      <td>1</td>\n",
       "      <td>5.0</td>\n",
       "      <td>325.445476</td>\n",
       "      <td>-122.451321</td>\n",
       "      <td>37.765843</td>\n",
       "      <td>90.321960</td>\n",
       "      <td>12.422514</td>\n",
       "      <td>12.422514</td>\n",
       "      <td>0.0</td>\n",
       "      <td>(37.765842999999997, -122.45132099999999)</td>\n",
       "      <td>325.445476</td>\n",
       "      <td>37.765843</td>\n",
       "      <td>-122.451321</td>\n",
       "      <td>12.422514</td>\n",
       "      <td>2</td>\n",
       "    </tr>\n",
       "    <tr>\n",
       "      <th>2</th>\n",
       "      <td>2</td>\n",
       "      <td>5.0</td>\n",
       "      <td>377.493257</td>\n",
       "      <td>-122.446506</td>\n",
       "      <td>37.766527</td>\n",
       "      <td>112.991294</td>\n",
       "      <td>14.088328</td>\n",
       "      <td>14.088328</td>\n",
       "      <td>0.0</td>\n",
       "      <td>(37.766527000000004, -122.446506)</td>\n",
       "      <td>377.493257</td>\n",
       "      <td>37.766527</td>\n",
       "      <td>-122.446506</td>\n",
       "      <td>14.088328</td>\n",
       "      <td>3</td>\n",
       "    </tr>\n",
       "    <tr>\n",
       "      <th>3</th>\n",
       "      <td>3</td>\n",
       "      <td>5.0</td>\n",
       "      <td>177.082058</td>\n",
       "      <td>-122.445920</td>\n",
       "      <td>37.766472</td>\n",
       "      <td>117.116577</td>\n",
       "      <td>5.487122</td>\n",
       "      <td>5.487122</td>\n",
       "      <td>0.0</td>\n",
       "      <td>(37.766472, -122.44592)</td>\n",
       "      <td>177.082058</td>\n",
       "      <td>37.766472</td>\n",
       "      <td>-122.445920</td>\n",
       "      <td>5.487122</td>\n",
       "      <td>4</td>\n",
       "    </tr>\n",
       "    <tr>\n",
       "      <th>4</th>\n",
       "      <td>4</td>\n",
       "      <td>4.0</td>\n",
       "      <td>433.855912</td>\n",
       "      <td>-122.449522</td>\n",
       "      <td>37.765608</td>\n",
       "      <td>90.413429</td>\n",
       "      <td>31.122123</td>\n",
       "      <td>13.122123</td>\n",
       "      <td>18.0</td>\n",
       "      <td>(37.765608, -122.449522)</td>\n",
       "      <td>433.855912</td>\n",
       "      <td>37.765608</td>\n",
       "      <td>-122.449522</td>\n",
       "      <td>31.122123</td>\n",
       "      <td>5</td>\n",
       "    </tr>\n",
       "  </tbody>\n",
       "</table>\n",
       "</div>"
      ],
      "text/plain": [
       "   Unnamed: 0  num_floor     Area_m2       x_lon      y_lat  ELEV_treat  \\\n",
       "0           0        4.0  133.080891 -122.450799  37.768826   81.596710   \n",
       "1           1        5.0  325.445476 -122.451321  37.765843   90.321960   \n",
       "2           2        5.0  377.493257 -122.446506  37.766527  112.991294   \n",
       "3           3        5.0  177.082058 -122.445920  37.766472  117.116577   \n",
       "4           4        4.0  433.855912 -122.449522  37.765608   90.413429   \n",
       "\n",
       "     SUM_pop        pop  employees                                    lat_lon  \\\n",
       "0   4.906568   4.906568        0.0          (37.768826000000004, -122.450799)   \n",
       "1  12.422514  12.422514        0.0  (37.765842999999997, -122.45132099999999)   \n",
       "2  14.088328  14.088328        0.0          (37.766527000000004, -122.446506)   \n",
       "3   5.487122   5.487122        0.0                    (37.766472, -122.44592)   \n",
       "4  31.122123  13.122123       18.0                   (37.765608, -122.449522)   \n",
       "\n",
       "      area_m2    lat_lat     lon_lon  nu_peo_emp  gid  \n",
       "0  133.080891  37.768826 -122.450799    4.906568    1  \n",
       "1  325.445476  37.765843 -122.451321   12.422514    2  \n",
       "2  377.493257  37.766527 -122.446506   14.088328    3  \n",
       "3  177.082058  37.766472 -122.445920    5.487122    4  \n",
       "4  433.855912  37.765608 -122.449522   31.122123    5  "
      ]
     },
     "execution_count": 20,
     "metadata": {},
     "output_type": "execute_result"
    }
   ],
   "source": [
    "buildings.head()"
   ]
  },
  {
   "cell_type": "code",
   "execution_count": null,
   "metadata": {
    "collapsed": true
   },
   "outputs": [],
   "source": []
  }
 ],
 "metadata": {
  "anaconda-cloud": {},
  "kernelspec": {
   "display_name": "Python [default]",
   "language": "python",
   "name": "python3"
  },
  "language_info": {
   "codemirror_mode": {
    "name": "ipython",
    "version": 3
   },
   "file_extension": ".py",
   "mimetype": "text/x-python",
   "name": "python",
   "nbconvert_exporter": "python",
   "pygments_lexer": "ipython3",
   "version": "3.5.2"
  }
 },
 "nbformat": 4,
 "nbformat_minor": 1
}
