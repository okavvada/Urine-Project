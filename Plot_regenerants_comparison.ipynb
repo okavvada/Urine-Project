{
 "cells": [
  {
   "cell_type": "code",
   "execution_count": 1,
   "metadata": {
    "collapsed": false
   },
   "outputs": [],
   "source": [
    "from __future__ import division\n",
    "import pandas as pd\n",
    "import numpy as np\n",
    "import matplotlib.pyplot as plt\n",
    "import math\n",
    "import statsmodels.formula.api as sm\n",
    "import statsmodels.api as smf\n",
    "%matplotlib inline"
   ]
  },
  {
   "cell_type": "code",
   "execution_count": 2,
   "metadata": {
    "collapsed": false
   },
   "outputs": [],
   "source": [
    "from utils.logistics_functions import *\n",
    "from utils.Run_LCA_model import Run_LCA_model"
   ]
  },
  {
   "cell_type": "code",
   "execution_count": 3,
   "metadata": {
    "collapsed": false
   },
   "outputs": [],
   "source": [
    "Sulfuric_Energy_optimal = pd.read_csv('results/Sulfuric_Energy_m3_optimal.csv')\n",
    "Sulfuric_GHG_optimal = pd.read_csv('results/Sulfuric_GHG_m3_optimal.csv')\n",
    "Sulfuric_COST_optimal = pd.read_csv('results/Sulfuric_COST_m3_optimal.csv')\n",
    "Nitric_Energy_optimal = pd.read_csv('results/Nitric_Energy_m3_optimal.csv')\n",
    "Nitric_GHG_optimal = pd.read_csv('results/Nitric_GHG_m3_optimal.csv')\n",
    "Nitric_COST_optimal = pd.read_csv('results/Nitric_COST_m3_optimal.csv')\n",
    "Hydrochloric_Energy_optimal = pd.read_csv('results/Hydrochloric_Energy_m3_optimal.csv')\n",
    "Hydrochloric_GHG_optimal = pd.read_csv('results/Hydrochloric_GHG_m3_optimal.csv')\n",
    "Hydrochloric_COST_optimal = pd.read_csv('results/Hydrochloric_COST_m3_optimal.csv')"
   ]
  },
  {
   "cell_type": "code",
   "execution_count": 4,
   "metadata": {
    "collapsed": false
   },
   "outputs": [],
   "source": [
    "energy_frames = [Sulfuric_Energy_optimal,Nitric_Energy_optimal,Hydrochloric_Energy_optimal]\n",
    "GHG_frames = [Sulfuric_GHG_optimal,Nitric_GHG_optimal,Hydrochloric_GHG_optimal]\n",
    "cost_frames = [Sulfuric_COST_optimal,Nitric_COST_optimal,Hydrochloric_COST_optimal]\n",
    "Energy_optimal = pd.concat(energy_frames)\n",
    "GHG_optimal = pd.concat(GHG_frames)\n",
    "Cost_optimal = pd.concat(cost_frames)"
   ]
  },
  {
   "cell_type": "code",
   "execution_count": 5,
   "metadata": {
    "collapsed": false
   },
   "outputs": [
    {
     "data": {
      "text/html": [
       "<div>\n",
       "<table border=\"1\" class=\"dataframe\">\n",
       "  <thead>\n",
       "    <tr style=\"text-align: right;\">\n",
       "      <th></th>\n",
       "      <th>Unnamed: 0</th>\n",
       "      <th>Resin manufacturing</th>\n",
       "      <th>Catridge manufacturing</th>\n",
       "      <th>Tank manufacturing</th>\n",
       "      <th>Pump operation</th>\n",
       "      <th>Pump manufacturing</th>\n",
       "      <th>Acid manufacturing</th>\n",
       "      <th>Logistics_regen</th>\n",
       "      <th>trucks manufacturing</th>\n",
       "      <th>Bottling</th>\n",
       "      <th>Material transport</th>\n",
       "      <th>Logistics_collect</th>\n",
       "      <th>n_facilities</th>\n",
       "      <th>sum</th>\n",
       "      <th>Acid</th>\n",
       "    </tr>\n",
       "  </thead>\n",
       "  <tbody>\n",
       "    <tr>\n",
       "      <th>0</th>\n",
       "      <td>0</td>\n",
       "      <td>3.492877</td>\n",
       "      <td>0.791493</td>\n",
       "      <td>0.000585</td>\n",
       "      <td>0.000344</td>\n",
       "      <td>0.002113</td>\n",
       "      <td>7.819108</td>\n",
       "      <td>1.900410</td>\n",
       "      <td>0.216041</td>\n",
       "      <td>0.000003</td>\n",
       "      <td>0.279899</td>\n",
       "      <td>0.000040</td>\n",
       "      <td>19</td>\n",
       "      <td>14.502912</td>\n",
       "      <td>Sulfuric</td>\n",
       "    </tr>\n",
       "    <tr>\n",
       "      <th>0</th>\n",
       "      <td>0</td>\n",
       "      <td>3.492877</td>\n",
       "      <td>0.791493</td>\n",
       "      <td>0.000584</td>\n",
       "      <td>0.000354</td>\n",
       "      <td>0.002219</td>\n",
       "      <td>108.036562</td>\n",
       "      <td>1.835943</td>\n",
       "      <td>0.214751</td>\n",
       "      <td>0.000006</td>\n",
       "      <td>0.510043</td>\n",
       "      <td>0.000078</td>\n",
       "      <td>19</td>\n",
       "      <td>114.884909</td>\n",
       "      <td>Nitric</td>\n",
       "    </tr>\n",
       "    <tr>\n",
       "      <th>0</th>\n",
       "      <td>0</td>\n",
       "      <td>3.492877</td>\n",
       "      <td>0.791493</td>\n",
       "      <td>0.000584</td>\n",
       "      <td>0.000351</td>\n",
       "      <td>0.002219</td>\n",
       "      <td>82.953498</td>\n",
       "      <td>1.800609</td>\n",
       "      <td>0.215396</td>\n",
       "      <td>0.000005</td>\n",
       "      <td>0.442429</td>\n",
       "      <td>0.000066</td>\n",
       "      <td>19</td>\n",
       "      <td>89.699527</td>\n",
       "      <td>Hydrochloric</td>\n",
       "    </tr>\n",
       "  </tbody>\n",
       "</table>\n",
       "</div>"
      ],
      "text/plain": [
       "   Unnamed: 0  Resin manufacturing  Catridge manufacturing  \\\n",
       "0           0             3.492877                0.791493   \n",
       "0           0             3.492877                0.791493   \n",
       "0           0             3.492877                0.791493   \n",
       "\n",
       "   Tank manufacturing  Pump operation  Pump manufacturing  Acid manufacturing  \\\n",
       "0            0.000585        0.000344            0.002113            7.819108   \n",
       "0            0.000584        0.000354            0.002219          108.036562   \n",
       "0            0.000584        0.000351            0.002219           82.953498   \n",
       "\n",
       "   Logistics_regen  trucks manufacturing  Bottling  Material transport  \\\n",
       "0         1.900410              0.216041  0.000003            0.279899   \n",
       "0         1.835943              0.214751  0.000006            0.510043   \n",
       "0         1.800609              0.215396  0.000005            0.442429   \n",
       "\n",
       "   Logistics_collect  n_facilities         sum          Acid  \n",
       "0           0.000040            19   14.502912      Sulfuric  \n",
       "0           0.000078            19  114.884909        Nitric  \n",
       "0           0.000066            19   89.699527  Hydrochloric  "
      ]
     },
     "execution_count": 5,
     "metadata": {},
     "output_type": "execute_result"
    }
   ],
   "source": [
    "Energy_optimal"
   ]
  },
  {
   "cell_type": "code",
   "execution_count": 7,
   "metadata": {
    "collapsed": false
   },
   "outputs": [
    {
     "data": {
      "text/plain": [
       "<matplotlib.text.Text at 0xbf3fdc02e8>"
      ]
     },
     "execution_count": 7,
     "metadata": {},
     "output_type": "execute_result"
    },
    {
     "data": {
      "image/png": "[encoded data removed]",
      "text/plain": [
       "<matplotlib.figure.Figure at 0xbf3f393c50>"
      ]
     },
     "metadata": {},
     "output_type": "display_data"
    }
   ],
   "source": [
    "fig = plt.figure(figsize=(3, 3))\n",
    "a=Energy_optimal['sum'].plot(kind='bar', color = 'g', alpha = 0.7)\n",
    "a.set_xticklabels(Energy_optimal['Acid'], fontsize = 11, rotation = 45)\n",
    "plt.ylabel('Unit Energy ($kWh$/$m^3$)', fontsize = 12)"
   ]
  },
  {
   "cell_type": "code",
   "execution_count": 8,
   "metadata": {
    "collapsed": false
   },
   "outputs": [
    {
     "data": {
      "text/plain": [
       "<matplotlib.text.Text at 0xbf3fdabfd0>"
      ]
     },
     "execution_count": 8,
     "metadata": {},
     "output_type": "execute_result"
    },
    {
     "data": {
      "image/png": "[encoded data removed]",
      "text/plain": [
       "<matplotlib.figure.Figure at 0xbf3fe787b8>"
      ]
     },
     "metadata": {},
     "output_type": "display_data"
    }
   ],
   "source": [
    "fig = plt.figure(figsize=(3,3))\n",
    "b= GHG_optimal['sum'].plot(kind='bar', legend=False, color = 'g', alpha = 0.7)\n",
    "b.set_xticklabels(Energy_optimal['Acid'], fontsize = 11, rotation = 45)\n",
    "plt.ylabel('Unit GHG emissions ($kgCO_2(eq)/m^3$)',  fontsize = 12)"
   ]
  },
  {
   "cell_type": "code",
   "execution_count": 9,
   "metadata": {
    "collapsed": false
   },
   "outputs": [
    {
     "data": {
      "text/plain": [
       "<matplotlib.text.Text at 0xbf3ff330f0>"
      ]
     },
     "execution_count": 9,
     "metadata": {},
     "output_type": "execute_result"
    },
    {
     "data": {
      "image/png": "[encoded data removed]",
      "text/plain": [
       "<matplotlib.figure.Figure at 0xbf3fec9128>"
      ]
     },
     "metadata": {},
     "output_type": "display_data"
    }
   ],
   "source": [
    "fig = plt.figure(figsize=(3,3))\n",
    "c=Cost_optimal['sum'].plot(kind='bar', legend=False, color = 'g', alpha = 0.7)\n",
    "c.set_xticklabels(Energy_optimal['Acid'], fontsize = 11, rotation = 45)\n",
    "plt.ylabel('Unit Cost ($USD/m^3$)',  fontsize = 12)"
   ]
  },
  {
   "cell_type": "code",
   "execution_count": null,
   "metadata": {
    "collapsed": true
   },
   "outputs": [],
   "source": []
  },
  {
   "cell_type": "code",
   "execution_count": null,
   "metadata": {
    "collapsed": true
   },
   "outputs": [],
   "source": []
  },
  {
   "cell_type": "code",
   "execution_count": null,
   "metadata": {
    "collapsed": true
   },
   "outputs": [],
   "source": []
  }
 ],
 "metadata": {
  "anaconda-cloud": {},
  "kernelspec": {
   "display_name": "Python [conda root]",
   "language": "python",
   "name": "conda-root-py"
  },
  "language_info": {
   "codemirror_mode": {
    "name": "ipython",
    "version": 3
   },
   "file_extension": ".py",
   "mimetype": "text/x-python",
   "name": "python",
   "nbconvert_exporter": "python",
   "pygments_lexer": "ipython3",
   "version": "3.5.2"
  }
 },
 "nbformat": 4,
 "nbformat_minor": 0
}
