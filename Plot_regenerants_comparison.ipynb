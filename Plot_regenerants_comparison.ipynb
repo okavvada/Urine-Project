{
 "cells": [
  {
   "cell_type": "code",
   "execution_count": 15,
   "metadata": {
    "collapsed": false
   },
   "outputs": [],
   "source": [
    "from __future__ import division\n",
    "import pandas as pd\n",
    "import numpy as np\n",
    "import matplotlib.pyplot as plt\n",
    "import math\n",
    "import statsmodels.formula.api as sm\n",
    "import statsmodels.api as smf\n",
    "%matplotlib inline"
   ]
  },
  {
   "cell_type": "code",
   "execution_count": 16,
   "metadata": {
    "collapsed": false
   },
   "outputs": [],
   "source": [
    "from utils.logistics_functions import *\n",
    "from utils.Run_LCA_model import Run_LCA_model"
   ]
  },
  {
   "cell_type": "code",
   "execution_count": 23,
   "metadata": {
    "collapsed": false
   },
   "outputs": [],
   "source": [
    "Sulfuric_Energy_optimal = pd.read_csv('results/Sulfuric_Energy_m3_optimal.csv')\n",
    "Sulfuric_GHG_optimal = pd.read_csv('results/Sulfuric_GHG_m3_optimal.csv')\n",
    "Sulfuric_COST_optimal = pd.read_csv('results/Sulfuric_COST_m3_optimal.csv')\n",
    "Nitric_Energy_optimal = pd.read_csv('results/Nitric_Energy_m3_optimal.csv')\n",
    "Nitric_GHG_optimal = pd.read_csv('results/Nitric_GHG_m3_optimal.csv')\n",
    "Nitric_COST_optimal = pd.read_csv('results/Nitric_COST_m3_optimal.csv')\n",
    "Hydrochloric_Energy_optimal = pd.read_csv('results/Hydrochloric_Energy_m3_optimal.csv')\n",
    "Hydrochloric_GHG_optimal = pd.read_csv('results/Hydrochloric_GHG_m3_optimal.csv')\n",
    "Hydrochloric_COST_optimal = pd.read_csv('results/Hydrochloric_COST_m3_optimal.csv')\n",
    "SodiumChloride_Energy_optimal = pd.read_csv('results/SodiumChloride_Energy_m3_optimal.csv')\n",
    "SodiumChloride_GHG_optimal = pd.read_csv('results/SodiumChloride_GHG_m3_optimal.csv')\n",
    "SodiumChloride_COST_optimal = pd.read_csv('results/SodiumChloride_COST_m3_optimal.csv')"
   ]
  },
  {
   "cell_type": "code",
   "execution_count": 24,
   "metadata": {
    "collapsed": false
   },
   "outputs": [],
   "source": [
    "energy_frames = [Sulfuric_Energy_optimal,Nitric_Energy_optimal,Hydrochloric_Energy_optimal,SodiumChloride_Energy_optimal]\n",
    "GHG_frames = [Sulfuric_GHG_optimal,Nitric_GHG_optimal,Hydrochloric_GHG_optimal,SodiumChloride_GHG_optimal]\n",
    "cost_frames = [Sulfuric_COST_optimal,Nitric_COST_optimal,Hydrochloric_COST_optimal,SodiumChloride_COST_optimal]\n",
    "Energy_optimal = pd.concat(energy_frames)\n",
    "GHG_optimal = pd.concat(GHG_frames)\n",
    "Cost_optimal = pd.concat(cost_frames)"
   ]
  },
  {
   "cell_type": "code",
   "execution_count": 25,
   "metadata": {
    "collapsed": false
   },
   "outputs": [
    {
     "data": {
      "text/html": [
       "<div>\n",
       "<table border=\"1\" class=\"dataframe\">\n",
       "  <thead>\n",
       "    <tr style=\"text-align: right;\">\n",
       "      <th></th>\n",
       "      <th>Acid</th>\n",
       "      <th>Acid manufacturing</th>\n",
       "      <th>Bottling</th>\n",
       "      <th>Cartridge collection</th>\n",
       "      <th>Cartridge manufacturing</th>\n",
       "      <th>Catridge manufacturing</th>\n",
       "      <th>Fertilizer offset</th>\n",
       "      <th>Fertilizer transport</th>\n",
       "      <th>Logistics_collect</th>\n",
       "      <th>Logistics_regen</th>\n",
       "      <th>Material transport</th>\n",
       "      <th>Pump manufacturing</th>\n",
       "      <th>Pump operation</th>\n",
       "      <th>Resin manufacturing</th>\n",
       "      <th>Tank manufacturing</th>\n",
       "      <th>Trucks manufacturing</th>\n",
       "      <th>Unnamed: 0</th>\n",
       "      <th>n_facilities</th>\n",
       "      <th>sum</th>\n",
       "      <th>trucks manufacturing</th>\n",
       "    </tr>\n",
       "  </thead>\n",
       "  <tbody>\n",
       "    <tr>\n",
       "      <th>0</th>\n",
       "      <td>Sulfuric</td>\n",
       "      <td>7.819108</td>\n",
       "      <td>0.035338</td>\n",
       "      <td>1.781444</td>\n",
       "      <td>0.89187</td>\n",
       "      <td>NaN</td>\n",
       "      <td>-2.23669</td>\n",
       "      <td>0.037990</td>\n",
       "      <td>NaN</td>\n",
       "      <td>NaN</td>\n",
       "      <td>0.282485</td>\n",
       "      <td>0.001793</td>\n",
       "      <td>0.000310</td>\n",
       "      <td>3.492877</td>\n",
       "      <td>0.000865</td>\n",
       "      <td>0.098024</td>\n",
       "      <td>0</td>\n",
       "      <td>19</td>\n",
       "      <td>12.205414</td>\n",
       "      <td>NaN</td>\n",
       "    </tr>\n",
       "    <tr>\n",
       "      <th>0</th>\n",
       "      <td>Nitric</td>\n",
       "      <td>108.036562</td>\n",
       "      <td>0.065877</td>\n",
       "      <td>1.800653</td>\n",
       "      <td>0.89187</td>\n",
       "      <td>NaN</td>\n",
       "      <td>-2.23669</td>\n",
       "      <td>0.039201</td>\n",
       "      <td>NaN</td>\n",
       "      <td>NaN</td>\n",
       "      <td>0.512629</td>\n",
       "      <td>0.001793</td>\n",
       "      <td>0.000310</td>\n",
       "      <td>3.492877</td>\n",
       "      <td>0.000865</td>\n",
       "      <td>0.098669</td>\n",
       "      <td>0</td>\n",
       "      <td>19</td>\n",
       "      <td>112.704617</td>\n",
       "      <td>NaN</td>\n",
       "    </tr>\n",
       "    <tr>\n",
       "      <th>0</th>\n",
       "      <td>Hydrochloric</td>\n",
       "      <td>82.953498</td>\n",
       "      <td>0.000005</td>\n",
       "      <td>NaN</td>\n",
       "      <td>NaN</td>\n",
       "      <td>0.791493</td>\n",
       "      <td>NaN</td>\n",
       "      <td>NaN</td>\n",
       "      <td>0.000066</td>\n",
       "      <td>1.800609</td>\n",
       "      <td>0.442429</td>\n",
       "      <td>0.002219</td>\n",
       "      <td>0.000351</td>\n",
       "      <td>3.492877</td>\n",
       "      <td>0.000584</td>\n",
       "      <td>NaN</td>\n",
       "      <td>0</td>\n",
       "      <td>19</td>\n",
       "      <td>89.699527</td>\n",
       "      <td>0.215396</td>\n",
       "    </tr>\n",
       "    <tr>\n",
       "      <th>0</th>\n",
       "      <td>SodiumChloride</td>\n",
       "      <td>11.095030</td>\n",
       "      <td>0.040592</td>\n",
       "      <td>1.797127</td>\n",
       "      <td>0.89187</td>\n",
       "      <td>NaN</td>\n",
       "      <td>-2.23669</td>\n",
       "      <td>0.040620</td>\n",
       "      <td>NaN</td>\n",
       "      <td>NaN</td>\n",
       "      <td>0.322081</td>\n",
       "      <td>0.001793</td>\n",
       "      <td>0.000310</td>\n",
       "      <td>3.492877</td>\n",
       "      <td>0.000865</td>\n",
       "      <td>0.098669</td>\n",
       "      <td>0</td>\n",
       "      <td>19</td>\n",
       "      <td>15.545145</td>\n",
       "      <td>NaN</td>\n",
       "    </tr>\n",
       "  </tbody>\n",
       "</table>\n",
       "</div>"
      ],
      "text/plain": [
       "             Acid  Acid manufacturing  Bottling  Cartridge collection  \\\n",
       "0        Sulfuric            7.819108  0.035338              1.781444   \n",
       "0          Nitric          108.036562  0.065877              1.800653   \n",
       "0    Hydrochloric           82.953498  0.000005                   NaN   \n",
       "0  SodiumChloride           11.095030  0.040592              1.797127   \n",
       "\n",
       "   Cartridge manufacturing  Catridge manufacturing  Fertilizer offset  \\\n",
       "0                  0.89187                     NaN           -2.23669   \n",
       "0                  0.89187                     NaN           -2.23669   \n",
       "0                      NaN                0.791493                NaN   \n",
       "0                  0.89187                     NaN           -2.23669   \n",
       "\n",
       "   Fertilizer transport  Logistics_collect  Logistics_regen  \\\n",
       "0              0.037990                NaN              NaN   \n",
       "0              0.039201                NaN              NaN   \n",
       "0                   NaN           0.000066         1.800609   \n",
       "0              0.040620                NaN              NaN   \n",
       "\n",
       "   Material transport  Pump manufacturing  Pump operation  \\\n",
       "0            0.282485            0.001793        0.000310   \n",
       "0            0.512629            0.001793        0.000310   \n",
       "0            0.442429            0.002219        0.000351   \n",
       "0            0.322081            0.001793        0.000310   \n",
       "\n",
       "   Resin manufacturing  Tank manufacturing  Trucks manufacturing  Unnamed: 0  \\\n",
       "0             3.492877            0.000865              0.098024           0   \n",
       "0             3.492877            0.000865              0.098669           0   \n",
       "0             3.492877            0.000584                   NaN           0   \n",
       "0             3.492877            0.000865              0.098669           0   \n",
       "\n",
       "   n_facilities         sum  trucks manufacturing  \n",
       "0            19   12.205414                   NaN  \n",
       "0            19  112.704617                   NaN  \n",
       "0            19   89.699527              0.215396  \n",
       "0            19   15.545145                   NaN  "
      ]
     },
     "execution_count": 25,
     "metadata": {},
     "output_type": "execute_result"
    }
   ],
   "source": [
    "Energy_optimal"
   ]
  },
  {
   "cell_type": "code",
   "execution_count": 30,
   "metadata": {
    "collapsed": false
   },
   "outputs": [
    {
     "data": {
      "text/plain": [
       "<matplotlib.text.Text at 0xa153e55048>"
      ]
     },
     "execution_count": 30,
     "metadata": {},
     "output_type": "execute_result"
    },
    {
     "data": {
      "image/png": "[encoded data removed]",
      "text/plain": [
       "<matplotlib.figure.Figure at 0xa153de5dd8>"
      ]
     },
     "metadata": {},
     "output_type": "display_data"
    }
   ],
   "source": [
    "fig = plt.figure(figsize=(4, 4))\n",
    "a=Energy_optimal['sum'].plot(kind='bar', color = 'g', alpha = 0.7)\n",
    "a.set_xticklabels(Energy_optimal['Acid'], fontsize = 11, rotation = 45)\n",
    "plt.ylabel('Unit Energy ($kWh$/$m^3$)', fontsize = 12)"
   ]
  },
  {
   "cell_type": "code",
   "execution_count": 31,
   "metadata": {
    "collapsed": false
   },
   "outputs": [
    {
     "data": {
      "text/plain": [
       "<matplotlib.text.Text at 0xa153d962b0>"
      ]
     },
     "execution_count": 31,
     "metadata": {},
     "output_type": "execute_result"
    },
    {
     "data": {
      "image/png": "[encoded data removed]",
      "text/plain": [
       "<matplotlib.figure.Figure at 0xa154e9eeb8>"
      ]
     },
     "metadata": {},
     "output_type": "display_data"
    }
   ],
   "source": [
    "fig = plt.figure(figsize=(4,4))\n",
    "b= GHG_optimal['sum'].plot(kind='bar', legend=False, color = 'g', alpha = 0.7)\n",
    "b.set_xticklabels(Energy_optimal['Acid'], fontsize = 11, rotation = 45)\n",
    "plt.ylabel('Unit GHG emissions ($kgCO_2(eq)/m^3$)',  fontsize = 12)"
   ]
  },
  {
   "cell_type": "code",
   "execution_count": 32,
   "metadata": {
    "collapsed": false
   },
   "outputs": [
    {
     "data": {
      "text/plain": [
       "<matplotlib.text.Text at 0xa151f25668>"
      ]
     },
     "execution_count": 32,
     "metadata": {},
     "output_type": "execute_result"
    },
    {
     "data": {
      "image/png": "[encoded data removed]",
      "text/plain": [
       "<matplotlib.figure.Figure at 0xa152021a90>"
      ]
     },
     "metadata": {},
     "output_type": "display_data"
    }
   ],
   "source": [
    "fig = plt.figure(figsize=(4,4))\n",
    "c=Cost_optimal['sum'].plot(kind='bar', legend=False, color = 'g', alpha = 0.7)\n",
    "c.set_xticklabels(Energy_optimal['Acid'], fontsize = 11, rotation = 45)\n",
    "plt.ylabel('Unit Cost ($USD/m^3$)',  fontsize = 12)"
   ]
  },
  {
   "cell_type": "code",
   "execution_count": null,
   "metadata": {
    "collapsed": true
   },
   "outputs": [],
   "source": []
  },
  {
   "cell_type": "code",
   "execution_count": null,
   "metadata": {
    "collapsed": true
   },
   "outputs": [],
   "source": []
  },
  {
   "cell_type": "code",
   "execution_count": null,
   "metadata": {
    "collapsed": true
   },
   "outputs": [],
   "source": []
  },
  {
   "cell_type": "code",
   "execution_count": null,
   "metadata": {
    "collapsed": true
   },
   "outputs": [],
   "source": []
  },
  {
   "cell_type": "code",
   "execution_count": null,
   "metadata": {
    "collapsed": true
   },
   "outputs": [],
   "source": []
  },
  {
   "cell_type": "code",
   "execution_count": null,
   "metadata": {
    "collapsed": true
   },
   "outputs": [],
   "source": []
  }
 ],
 "metadata": {
  "anaconda-cloud": {},
  "kernelspec": {
   "display_name": "Python [conda root]",
   "language": "python",
   "name": "conda-root-py"
  },
  "language_info": {
   "codemirror_mode": {
    "name": "ipython",
    "version": 3
   },
   "file_extension": ".py",
   "mimetype": "text/x-python",
   "name": "python",
   "nbconvert_exporter": "python",
   "pygments_lexer": "ipython3",
   "version": "3.5.2"
  }
 },
 "nbformat": 4,
 "nbformat_minor": 0
}
