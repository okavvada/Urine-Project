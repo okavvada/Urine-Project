{
 "cells": [
  {
   "cell_type": "code",
   "execution_count": 1,
   "metadata": {
    "collapsed": false
   },
   "outputs": [],
   "source": [
    "from __future__ import division\n",
    "import pandas as pd\n",
    "import numpy as np\n",
    "import matplotlib.pyplot as plt\n",
    "import math\n",
    "import statsmodels.formula.api as sm\n",
    "import statsmodels.api as smf\n",
    "%matplotlib inline"
   ]
  },
  {
   "cell_type": "code",
   "execution_count": 2,
   "metadata": {
    "collapsed": false
   },
   "outputs": [],
   "source": [
    "from utils.Run_LCA_model import Run_LCA_model"
   ]
  },
  {
   "cell_type": "markdown",
   "metadata": {},
   "source": [
    "## Set your inputs\n",
    "\n",
    "* Path to shapefile with building data and population\n",
    "* logistics scenario to run (choose from: 'optimal', 'grid', 'random')\n",
    "* Max number of regeneration facilities\n",
    "* Number of fertilizer collection facilities"
   ]
  },
  {
   "cell_type": "code",
   "execution_count": 3,
   "metadata": {
    "collapsed": true
   },
   "outputs": [],
   "source": [
    "buildings_path = '..\\shapefiles\\\\combined_buildings_2.csv'\n",
    "#buildings_path = '..\\shapefiles\\\\building_block_people_WGS_3_empl.csv'\n",
    "logistics = 'optimal'\n",
    "analysis = 'Normal'\n",
    "scenario = 'Resin'\n",
    "#scenario = 'Urine'\n",
    "total_num_regeneration = 100\n",
    "n_collection = 1\n",
    "acid_type = 'Sulfuric'"
   ]
  },
  {
   "cell_type": "code",
   "execution_count": 4,
   "metadata": {
    "collapsed": false
   },
   "outputs": [
    {
     "name": "stdout",
     "output_type": "stream",
     "text": [
      "Start calculating distances...\n",
      "calc distances took time 32.76334595680237\n",
      "2\n",
      "Start calculating distances...\n",
      "calc distances took time 32.76786971092224\n",
      "7\n",
      "Start calculating distances...\n",
      "calc distances took time 24.727922201156616\n",
      "12\n",
      "Start calculating distances...\n",
      "calc distances took time 35.84446310997009\n",
      "22\n",
      "Start calculating distances...\n",
      "calc distances took time 36.816670179367065\n",
      "32\n",
      "Start calculating distances...\n",
      "calc distances took time 33.45305252075195\n",
      "42\n",
      "Start calculating distances...\n",
      "calc distances took time 31.884036540985107\n",
      "52\n",
      "Start calculating distances...\n",
      "calc distances took time 32.8116774559021\n",
      "62\n",
      "Start calculating distances...\n",
      "calc distances took time 35.042611837387085\n",
      "72\n",
      "Start calculating distances...\n",
      "calc distances took time 27.028692722320557\n",
      "82\n",
      "Start calculating distances...\n",
      "calc distances took time 35.3070912361145\n",
      "92\n"
     ]
    }
   ],
   "source": [
    "Result_Energy_m3 = pd.DataFrame()\n",
    "Result_GHG_m3 = pd.DataFrame()\n",
    "Result_COST_m3 = pd.DataFrame()\n",
    "i=2\n",
    "while i <= total_num_regeneration:\n",
    "    n_regen = i\n",
    "    Total_Energy_m3, Total_GHG_m3, Total_COST_m3 = Run_LCA_model(buildings_path, n_regen, n_collection, logistics, analysis, acid_type, scenario)\n",
    "    Result_Energy_m3 = Result_Energy_m3.append(Total_Energy_m3)\n",
    "    Result_GHG_m3 = Result_GHG_m3.append(Total_GHG_m3)\n",
    "    Result_COST_m3 = Result_COST_m3.append(Total_COST_m3)\n",
    "    print (i)\n",
    "    if i<10:\n",
    "        i = i + 5\n",
    "    else:\n",
    "        i = i+10"
   ]
  },
  {
   "cell_type": "code",
   "execution_count": 5,
   "metadata": {
    "collapsed": false
   },
   "outputs": [],
   "source": [
    "Result_Energy_m3[\"sum\"] = (Result_Energy_m3.sum(axis=1)) - Result_Energy_m3[\"n_facilities\"] - Result_Energy_m3[\"Fertilizer offset\"]\n",
    "Result_GHG_m3[\"sum\"] = (Result_GHG_m3.sum(axis=1)) - Result_GHG_m3[\"n_facilities\"] - Result_GHG_m3[\"Fertilizer offset\"]\n",
    "Result_COST_m3[\"sum\"] = (Result_COST_m3.sum(axis=1)) - Result_COST_m3[\"n_facilities\"] - Result_COST_m3[\"Labor\"] - Result_COST_m3[\"Fertilizer offset\"]"
   ]
  },
  {
   "cell_type": "code",
   "execution_count": 6,
   "metadata": {
    "collapsed": false
   },
   "outputs": [],
   "source": [
    "Result_Energy_m3.to_csv('results/Energy_m3_%s_%s_3.csv'% (logistics, scenario)) \n",
    "Result_GHG_m3.to_csv('results/GHG_m3_%s_%s_3.csv'% (logistics, scenario)) \n",
    "Result_COST_m3.to_csv('results/COST_m3_%s_%s_3.csv'% (logistics, scenario)) "
   ]
  },
  {
   "cell_type": "code",
   "execution_count": null,
   "metadata": {
    "collapsed": true
   },
   "outputs": [],
   "source": []
  },
  {
   "cell_type": "code",
   "execution_count": null,
   "metadata": {
    "collapsed": true
   },
   "outputs": [],
   "source": []
  },
  {
   "cell_type": "code",
   "execution_count": null,
   "metadata": {
    "collapsed": true
   },
   "outputs": [],
   "source": []
  }
 ],
 "metadata": {
  "anaconda-cloud": {},
  "kernelspec": {
   "display_name": "Python [conda root]",
   "language": "python",
   "name": "conda-root-py"
  },
  "language_info": {
   "codemirror_mode": {
    "name": "ipython",
    "version": 3
   },
   "file_extension": ".py",
   "mimetype": "text/x-python",
   "name": "python",
   "nbconvert_exporter": "python",
   "pygments_lexer": "ipython3",
   "version": "3.5.2"
  }
 },
 "nbformat": 4,
 "nbformat_minor": 0
}
